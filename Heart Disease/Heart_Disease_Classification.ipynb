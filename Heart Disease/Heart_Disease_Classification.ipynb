{
  "nbformat": 4,
  "nbformat_minor": 0,
  "metadata": {
    "colab": {
      "name": "Heart_Disease_Classification.ipynb",
      "provenance": [],
      "collapsed_sections": []
    },
    "kernelspec": {
      "name": "python3",
      "display_name": "Python 3"
    }
  },
  "cells": [
    {
      "cell_type": "code",
      "metadata": {
        "id": "D0uFgi7fTwa2",
        "colab_type": "code",
        "colab": {}
      },
      "source": [
        "from google.colab import files\n",
        "files.upload()"
      ],
      "execution_count": 0,
      "outputs": []
    },
    {
      "cell_type": "code",
      "metadata": {
        "id": "3gBBwZMXUQ6E",
        "colab_type": "code",
        "colab": {}
      },
      "source": [
        "import numpy as np\n",
        "import pandas as pd\n",
        "import matplotlib.pyplot as plt\n",
        "import seaborn as sns\n",
        "from sklearn.linear_model import LogisticRegression\n",
        "from sklearn.model_selection import train_test_split \n",
        "from sklearn import metrics\n",
        "from sklearn.naive_bayes import GaussianNB\n",
        "from sklearn.neighbors import KNeighborsClassifier"
      ],
      "execution_count": 0,
      "outputs": []
    },
    {
      "cell_type": "code",
      "metadata": {
        "id": "74XKD02aUcZt",
        "colab_type": "code",
        "colab": {}
      },
      "source": [
        "data = pd.read_csv(\"heart.csv\")\n",
        "disease_data = pd.DataFrame(data)"
      ],
      "execution_count": 0,
      "outputs": []
    },
    {
      "cell_type": "code",
      "metadata": {
        "id": "eGDt6sWvU37l",
        "colab_type": "code",
        "colab": {}
      },
      "source": [
        "disease_data.shape"
      ],
      "execution_count": 0,
      "outputs": []
    },
    {
      "cell_type": "code",
      "metadata": {
        "id": "phZnxcAEU5rv",
        "colab_type": "code",
        "colab": {}
      },
      "source": [
        "disease_data.describe()"
      ],
      "execution_count": 0,
      "outputs": []
    },
    {
      "cell_type": "code",
      "metadata": {
        "id": "P7qyxKWxVGWA",
        "colab_type": "code",
        "colab": {}
      },
      "source": [
        "disease_data.isnull().sum()"
      ],
      "execution_count": 0,
      "outputs": []
    },
    {
      "cell_type": "code",
      "metadata": {
        "id": "o8fMM3N0VSNS",
        "colab_type": "code",
        "colab": {}
      },
      "source": [
        "disease_data.isna().sum()"
      ],
      "execution_count": 0,
      "outputs": []
    },
    {
      "cell_type": "code",
      "metadata": {
        "id": "_kA6vSEfVbgf",
        "colab_type": "code",
        "colab": {}
      },
      "source": [
        "disease_data"
      ],
      "execution_count": 0,
      "outputs": []
    },
    {
      "cell_type": "code",
      "metadata": {
        "id": "ARdN0S60VkaC",
        "colab_type": "code",
        "colab": {}
      },
      "source": [
        "ax = disease_data['target'].value_counts().plot(kind='bar')\n",
        "ax.set_xlabel(\"Heart Disease\")\n",
        "ax.set_ylabel(\"Count\")\n",
        "plt.show()"
      ],
      "execution_count": 0,
      "outputs": []
    },
    {
      "cell_type": "code",
      "metadata": {
        "id": "14lZO5lsYHkk",
        "colab_type": "code",
        "colab": {}
      },
      "source": [
        "sex_df = disease_data.groupby(['target','sex'])['sex'].count().unstack('target')\n",
        "sex_plot = sex_df.plot.bar()\n",
        "plt.title('Frequency in of Heart Disease as per Sex')  \n",
        "plt.xlabel('Sex')  \n",
        "plt.ylabel('Count')  \n",
        "plt.show()"
      ],
      "execution_count": 0,
      "outputs": []
    },
    {
      "cell_type": "code",
      "metadata": {
        "id": "QMmts66mjXhy",
        "colab_type": "code",
        "colab": {}
      },
      "source": [
        "sns.countplot(x=\"cp\", hue=\"target\", data=disease_data, palette=\"Set2\")"
      ],
      "execution_count": 0,
      "outputs": []
    },
    {
      "cell_type": "code",
      "metadata": {
        "id": "HDqpfpnydGGg",
        "colab_type": "code",
        "colab": {}
      },
      "source": [
        "sns.catplot(x=\"cp\", hue=\"sex\", col=\"target\",data=disease_data, kind=\"count\", palette=\"Set1\")"
      ],
      "execution_count": 0,
      "outputs": []
    },
    {
      "cell_type": "code",
      "metadata": {
        "id": "QMF8DzWudVAX",
        "colab_type": "code",
        "colab": {}
      },
      "source": [
        "sns.boxplot(x=\"target\", y=\"thalach\", data=disease_data)"
      ],
      "execution_count": 0,
      "outputs": []
    },
    {
      "cell_type": "code",
      "metadata": {
        "id": "D-6boRqflj4r",
        "colab_type": "code",
        "colab": {}
      },
      "source": [
        "# Correlation HeatMap\n",
        "corr = disease_data.corr()\n",
        "plt.figure(figsize=(12,10)) \n",
        "sns.heatmap(corr, annot=True)"
      ],
      "execution_count": 0,
      "outputs": []
    },
    {
      "cell_type": "code",
      "metadata": {
        "id": "bQIgZz-CmAZT",
        "colab_type": "code",
        "colab": {}
      },
      "source": [
        "# Split data into Train and Test Sets\n",
        "regg_data = disease_data\n",
        "x1 = regg_data.drop(['target'],axis=1)\n",
        "X = (x1 - np.min(x1))/(np.max(x1)-np.min(x1)).values\n",
        "y = disease_data['target']\n",
        "X_train, X_test, y_train, y_test = train_test_split(X, y, test_size=0.25, random_state=0)"
      ],
      "execution_count": 0,
      "outputs": []
    },
    {
      "cell_type": "code",
      "metadata": {
        "id": "YckDRq5Ambbt",
        "colab_type": "code",
        "colab": {}
      },
      "source": [
        "# Logistic Regression\n",
        "logisticRegr = LogisticRegression()\n",
        "clf = logisticRegr.fit(X_train, y_train)\n",
        "predictions = logisticRegr.predict(X_test)\n",
        "LR_score = logisticRegr.score(X_test, y_test)\n",
        "print(LR_score)"
      ],
      "execution_count": 0,
      "outputs": []
    },
    {
      "cell_type": "code",
      "metadata": {
        "id": "4wdojZpRsdsO",
        "colab_type": "code",
        "colab": {}
      },
      "source": [
        "# Confusion Matrix\n",
        "def print_ConfusionMatrix(actual, pred,score):\n",
        "  cm = metrics.confusion_matrix(actual, pred)\n",
        "  plt.figure(figsize=(9,9))\n",
        "  sns.heatmap(cm, annot=True, fmt=\".3f\", linewidths=.5, square = True, cmap = 'Blues_r');\n",
        "  plt.ylabel('Actual label');\n",
        "  plt.xlabel('Predicted label');\n",
        "  all_sample_title = 'Accuracy Score: {0}'.format(score)\n",
        "  plt.title(all_sample_title)\n",
        "\n",
        "print_ConfusionMatrix(y_test, LR_pred,LR_score)"
      ],
      "execution_count": 0,
      "outputs": []
    },
    {
      "cell_type": "code",
      "metadata": {
        "id": "L-eXsK9aF3qw",
        "colab_type": "code",
        "colab": {}
      },
      "source": [
        "# Naive Bayes\n",
        "gnb = GaussianNB()\n",
        "y_pred = gnb.fit(X_train, y_train).predict(X_test)\n",
        "total_points = X_test.shape[0]\n",
        "mislabelled_points = (y_test != y_pred).sum()\n",
        "print(\"Number of mislabeled points out of a total %d points : %d\"% (X_test.shape[0], (y_test != y_pred).sum()))"
      ],
      "execution_count": 0,
      "outputs": []
    },
    {
      "cell_type": "code",
      "metadata": {
        "id": "yTkoLkTMHEqv",
        "colab_type": "code",
        "colab": {}
      },
      "source": [
        "# K-Nearest Neighbors\n",
        "neigh = KNeighborsClassifier(n_neighbors=3)\n",
        "neigh.fit(X_train, y_train)\n",
        "y_pred = neigh.predict(X_test)\n",
        "KNN_score = logisticRegr.score(X_test, y_pred)\n",
        "print(KNN_score)"
      ],
      "execution_count": 0,
      "outputs": []
    },
    {
      "cell_type": "code",
      "metadata": {
        "id": "u61QBqo6H-Wy",
        "colab_type": "code",
        "colab": {}
      },
      "source": [
        "print_ConfusionMatrix(y_test, y_pred,KNN_score)"
      ],
      "execution_count": 0,
      "outputs": []
    }
  ]
}